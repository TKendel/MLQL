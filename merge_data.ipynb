{
  "nbformat": 4,
  "nbformat_minor": 0,
  "metadata": {
    "colab": {
      "provenance": []
    },
    "kernelspec": {
      "name": "python3",
      "display_name": "Python 3"
    },
    "language_info": {
      "name": "python"
    }
  },
  "cells": [
    {
      "cell_type": "code",
      "execution_count": null,
      "metadata": {
        "id": "PTMHLv6IhTKL"
      },
      "outputs": [],
      "source": [
        "import pandas as pd\n",
        "import os\n",
        "\n",
        "def merge_csv_files_in_folder(folder_path, activity_label):\n",
        "    csv_files = [os.path.join(folder_path, file) for file in os.listdir(folder_path) if file.endswith('.csv')]\n",
        "\n",
        "    if not csv_files:\n",
        "        print(f\"No CSV files found in {folder_path}\")\n",
        "        return pd.DataFrame()\n",
        "\n",
        "    dataframes = []\n",
        "    columns_added = []\n",
        "\n",
        "    for csv_file in csv_files:\n",
        "        df = pd.read_csv(csv_file)\n",
        "        df['Activity'] = activity_label\n",
        "        base_time = pd.Timestamp('1970-01-01')\n",
        "        df['Timestamp'] = base_time + pd.to_timedelta(df[df.columns[0]], unit='s')\n",
        "        dataframes.append(df)\n",
        "\n",
        "    if not dataframes:\n",
        "        print(f\"No valid dataframes to merge in {folder_path}\")\n",
        "        return pd.DataFrame()\n",
        "\n",
        "    merged_df = dataframes[0]\n",
        "    for df in dataframes[1:]:\n",
        "        added_columns = [col for col in df.columns if col not in merged_df.columns and col != 'Timestamp']\n",
        "        columns_added.extend(added_columns)\n",
        "        merged_df = pd.merge_asof(merged_df.sort_values('Timestamp'),\n",
        "                                  df.sort_values('Timestamp'),\n",
        "                                  on='Timestamp',\n",
        "                                  suffixes=('', '_drop'))\n",
        "        merged_df.drop([col for col in merged_df.columns if 'drop' in col], axis=1, inplace=True)\n",
        "\n",
        "    print(f\"Columns added in {activity_label}: {columns_added}\")\n",
        "    return merged_df\n"
      ]
    },
    {
      "cell_type": "code",
      "source": [
        "folder_paths = [\n",
        "    '/content/drive/MyDrive/MLQL/biking',\n",
        "    '/content/drive/MyDrive/MLQL/running',\n",
        "    '/content/drive/MyDrive/MLQL/sitting_1',\n",
        "    '/content/drive/MyDrive/MLQL/sitting_2',\n",
        "    '/content/drive/MyDrive/MLQL/standing',\n",
        "    '/content/drive/MyDrive/MLQL/walking_1'\n",
        "]\n",
        "\n",
        "activities = [\n",
        "    'biking',\n",
        "    'running',\n",
        "    'sitting',\n",
        "    'sitting',\n",
        "    'standing',\n",
        "    'walking'\n",
        "]\n",
        "\n",
        "all_dataframes = []\n",
        "\n",
        "for idx, folder_path in enumerate(folder_paths):\n",
        "    activity_label = activities[idx]\n",
        "    merged_df = merge_csv_files_in_folder(folder_path, activity_label)\n",
        "    all_dataframes.append(merged_df)"
      ],
      "metadata": {
        "id": "pBnmp3zehX2N"
      },
      "execution_count": null,
      "outputs": []
    },
    {
      "cell_type": "code",
      "source": [
        "final_df = pd.concat(all_dataframes, ignore_index=True)\n",
        "final_df = final_df.drop(columns=['Timestamp'])\n",
        "final_df.to_csv('/content/drive/MyDrive/MLQL/final_merged_data.csv', index=False)"
      ],
      "metadata": {
        "id": "Dh6xAv82hX4x"
      },
      "execution_count": null,
      "outputs": []
    },
    {
      "cell_type": "code",
      "source": [],
      "metadata": {
        "id": "JrWW_ScChX7M"
      },
      "execution_count": null,
      "outputs": []
    }
  ]
}